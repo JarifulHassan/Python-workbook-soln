{
 "cells": [
  {
   "cell_type": "markdown",
   "id": "096a2ff7",
   "metadata": {},
   "source": [
    "# python practice"
   ]
  },
  {
   "cell_type": "code",
   "execution_count": 191,
   "id": "115d20e8",
   "metadata": {},
   "outputs": [],
   "source": [
    "Name=input(\"Enter your Name:\")\n",
    "print(f\"Hii {Name}, how you are?\")"
   ]
  },
  {
   "cell_type": "code",
   "execution_count": null,
   "id": "29b95e66",
   "metadata": {},
   "outputs": [
    {
     "name": "stdout",
     "output_type": "stream",
     "text": [
      "enter widht in feet55\n",
      "enter length in feet55\n",
      "3025 square feet\n"
     ]
    }
   ],
   "source": [
    "width=int(input(\"enter widht in feet:\"))\n",
    "length=int(input(\"enter length in feet:\"))\n",
    "area=length*width\n",
    "print(area,\"square feet\")"
   ]
  },
  {
   "cell_type": "code",
   "execution_count": null,
   "id": "a72948ba",
   "metadata": {},
   "outputs": [
    {
     "name": "stdout",
     "output_type": "stream",
     "text": [
      "enter widht in feet:55\n",
      "enter length in feet:55\n",
      "70.34883720930233 560 square acre\n"
     ]
    }
   ],
   "source": [
    "width=int(input(\"enter widht in feet:\"))\n",
    "length=int(input(\"enter length in feet:\"))\n",
    "area=length*width\n",
    "print(area/ 43,560,\"square acre\")"
   ]
  },
  {
   "cell_type": "code",
   "execution_count": null,
   "id": "83f011f6",
   "metadata": {},
   "outputs": [
    {
     "name": "stdout",
     "output_type": "stream",
     "text": [
      "hii deposit is added to drink containers  drink containers holding one liter or less have a $0.10 deposit, and drink containers holding more than one liter have a$0.25 deposit.\n",
      "enter number of can containig less then or equal to one ltr :4\n",
      "enter number of can containig more then one ltr :4\n",
      "1.4 $\n"
     ]
    }
   ],
   "source": [
    "print('hii deposit is added to drink containers \\\n",
    " drink containers holding one liter or less have a $0.10 deposit, and drink containers holding more than one liter have a\\\n",
    "$0.25 deposit.')\n",
    "less_then_or_1=int(input(\"enter number of can containig less then or equal to one ltr :\"))\n",
    "more_then_one=int(input(\"enter number of can containig more then one ltr :\"))\n",
    "refund=0.10*less_then_or_1+0.25*more_then_one\n",
    "print(refund,\"$\")"
   ]
  },
  {
   "cell_type": "code",
   "execution_count": null,
   "id": "80030ad9",
   "metadata": {},
   "outputs": [
    {
     "name": "stdout",
     "output_type": "stream",
     "text": [
      "Enter the number to calculate sum of first postive integer-9\n",
      "36.0\n"
     ]
    }
   ],
   "source": [
    "#sum of the first n positive integer formula sum=n(n+1)/2\n",
    "N=int(input(\"Enter the number to calculate sum of first postive integer\"))\n",
    "sum= N*(N+1)/2\n",
    "print(sum)"
   ]
  },
  {
   "cell_type": "code",
   "execution_count": null,
   "id": "d91076df",
   "metadata": {},
   "outputs": [
    {
     "data": {
      "text/plain": [
       "0.6989700043360189"
      ]
     },
     "execution_count": 1,
     "metadata": {},
     "output_type": "execute_result"
    }
   ],
   "source": [
    "import math\n",
    "math.log10(5)\n"
   ]
  },
  {
   "cell_type": "markdown",
   "id": "e4d299b9",
   "metadata": {},
   "source": [
    "# Exercise 12: Distance Between Two Points on Earth\n",
    "(27 Lines)\n",
    "The surface of the Earth is curved, and the distance between degrees of longitude\n",
    "varies with latitude. As a result, finding the distance between two points on the surface\n",
    "of the Earth is more complicated than simply using the Pythagorean theorem.\n",
    "Let (t1, g1) and (t2, g2) be the latitude and longitude of two points on the Earth’s\n",
    "surface. The distance between these points, following the surface of the Earth, in\n",
    "kilometers is:\n",
    "distance = 6371.01 × arccos(sin(t1) × sin(t2) + cos(t1) × cos(t2) × cos(g1 − g2))\n",
    "The value 6371.01 in the previous equation wasn’t selected at random. It is the\n",
    "average radius of the Earth in kilometers.\n",
    "Create a program that allows the user to enter the latitude and longitude of two\n",
    "points on the Earth in degrees. Your program should display the distance between\n",
    "the points, following the surface of the earth, in kilometers.\n",
    "Hint: Python’s trigonometric functions operate in radians. As a result, you will\n",
    "need to convert the user’s input from degrees to radians before computing the\n",
    "distance with the formula discussed previously. The math module contains a\n",
    "function named radians which converts from degrees to radians."
   ]
  },
  {
   "cell_type": "code",
   "execution_count": null,
   "id": "25e9f2df",
   "metadata": {},
   "outputs": [
    {
     "name": "stdout",
     "output_type": "stream",
     "text": [
      "Hii ,Let (t1, g1) and (t2, g2) be the latitude and longitude of two points on the Earth’ssurface. The distance between these points, following the surface of the Earth, inkilometers is: \n",
      "Enter latitude of starting point:55.0000\n",
      "Enter latgtitude of starting point:55.0000\n",
      "Enter latitude of ending point:55.0000\n",
      "Enter latgtitude of ending point:55.0000\n",
      "distance from (0.9599310885968813, 0.9599310885968813)---> (0.9599310885968813, 0.9599310885968813) is 9.493544697761536e-05 km\n"
     ]
    }
   ],
   "source": [
    "#basic intution\n",
    "print(\"Hii ,Let (t1, g1) and (t2, g2) be the latitude and longitude of two points on the Earth’s\\\n",
    "surface. The distance between these points, following the surface of the Earth, in\\\n",
    "kilometers is: \")\n",
    "t1=float(input(\"Enter latitude of starting point:\"))*math.pi/180\n",
    "g1=float(input(\"Enter latgtitude of starting point:\"))*math.pi/180\n",
    "t2=float(input(\"Enter latitude of ending point:\"))*math.pi/180\n",
    "g2=float(input(\"Enter latgtitude of ending point:\"))*math.pi/180\n",
    "\n",
    "#t1= 28.6129*math.pi/180-india gate lati\n",
    "#g1=77.2295*math.pi/180\n",
    "#t2=28.6562*math.pi/180\n",
    "#g2=*math.pi/180\n",
    "distance = 6371.01 * math.acos(math.sin(t1) * math.sin(t2) + math.cos(t1) * math.cos(t2) * math.cos(g1 - g2))\n",
    "print(f\"distance from {t1,g1}---> {t2,g2} is {distance} km\")"
   ]
  },
  {
   "cell_type": "markdown",
   "id": "51bed88d",
   "metadata": {},
   "source": [
    "# Write a program that reads a number of feet from\n",
    "the user, followed by a number of inches. Once these values are read, your program\n",
    "should compute and display the equivalent number of centimeters.\n",
    "Hint: One foot is 12 inches. One inch is 2.54 centimeters.\n"
   ]
  },
  {
   "cell_type": "code",
   "execution_count": null,
   "id": "cb82720d",
   "metadata": {},
   "outputs": [
    {
     "name": "stdout",
     "output_type": "stream",
     "text": [
      "Hii this program will tell you will convert your hight feet to cm\n",
      "you are 1676.4cm tall\n"
     ]
    }
   ],
   "source": [
    "print(\"Hii this program will tell you will convert your hight feet to cm\")\n",
    "h1=float(input(\"Enter your heigt in Feet\"))\n",
    "height=h1*12*2.54\n",
    "print(f\"you are {height}cm tall\")"
   ]
  },
  {
   "cell_type": "markdown",
   "id": "859ab8e3",
   "metadata": {},
   "source": [
    "# Exercise 17: Heat Capacity\n",
    "(Solved, 23 Lines)\n",
    "The amount of energy required to increase the temperature of one gram of a material\n",
    "by one degree Celsius is the material’s specific heat capacity, C. The total amount\n",
    "of energy, q, required to raise m grams of a material by ΔT degrees Celsius can be\n",
    "computed using the formula:\n",
    "q = mCΔT\n",
    "Write a program that reads the mass of some water and the temperature change from\n",
    "the user. Your program should display the total amount of energy that must be added\n",
    "or removed to achieve the desired temperature change.\n",
    "1.6 Exercises 17\n",
    "Hint: The specific heat capacity of water is 4.186 J\n",
    "g◦C. Because water has a\n",
    "density of 1.0 grams per milliliter, you can use grams and milliliters inter\u0002changeably in this exercise.\n",
    "Extend your program so that it also computes the cost of heating the water. Elec\u0002tricity is normally billed using units of kilowatt hours rather than Joules. In this\n",
    "exercise, you should assume that electricity costs 8.9 cents per kilowatt hour. Use\n",
    "your program to compute the cost of boiling the water needed for a cup of coffee.\n",
    "Hint: You will need to look up the factor for converting between Joules and\n",
    "kilowatt hours to complete the last part of this exercise"
   ]
  },
  {
   "cell_type": "markdown",
   "id": "16b146b7",
   "metadata": {},
   "source": [
    "Q32\n",
    "Develop a program that reads a four-digit integer from the user and displays the sum\n",
    "of its digits. For example, if the user enters 3141 then your program should display\n",
    "3+1+4+1=9"
   ]
  },
  {
   "cell_type": "code",
   "execution_count": null,
   "id": "29d7535a",
   "metadata": {},
   "outputs": [
    {
     "name": "stdout",
     "output_type": "stream",
     "text": [
      "17\n"
     ]
    }
   ],
   "source": [
    "number=int(input(\"enter the four degit number integer\"))\n",
    "thousands=number//1000\n",
    "hundreds=(number%1000)//100\n",
    "tens=(number%100)//10\n",
    "ones=number%10\n",
    "total_sum = thousands + hundreds + tens + ones\n",
    "\n",
    "#print((f\"{thousands:1d} + {hundreds:1d} + {tens:1d} + {ones:1d} = {total_sum:2d}\"))\n",
    "print(total_sum)\n"
   ]
  },
  {
   "cell_type": "markdown",
   "id": "fecfdcf9",
   "metadata": {},
   "source": [
    "\n",
    "\n",
    "Exercise 33: Sort 3 Integers\n",
    "(Solved, 19 Lines)\n",
    "Create a program that reads three integers from the user and displays them in sorted\n",
    "order (from smallest to largest). Use the min and max functions to find the smallest\n",
    "and largest values. The middle value can be found by computing the sum of all three\n",
    "values, and then subtracting the minimum value and the maximum value."
   ]
  },
  {
   "cell_type": "code",
   "execution_count": null,
   "id": "97d992a8",
   "metadata": {},
   "outputs": [
    {
     "name": "stdout",
     "output_type": "stream",
     "text": [
      "22,55,66\n"
     ]
    }
   ],
   "source": [
    "a=int(input(\"enter the number\"))\n",
    "b=int(input(\"enter the number\"))\n",
    "c=int(input(\"enter the nymber\"))\n",
    "print(f\"{min(a,b,c)},{(a+b+c)-min(a,b,c)-max(a,b,c)},{max(a,b,c)}\")"
   ]
  },
  {
   "cell_type": "code",
   "execution_count": null,
   "id": "01b0b0bb",
   "metadata": {},
   "outputs": [
    {
     "name": "stdout",
     "output_type": "stream",
     "text": [
      "That’s a big positive number\n"
     ]
    }
   ],
   "source": [
    "# Read a number from the user\n",
    "num = float(input(\"Enter a number: \"))\n",
    "# Store the appropriate message in result\n",
    "if num > 0:\n",
    "# Determine what adjective should be used to describe the number\n",
    "    adjective = \" \"\n",
    "    if num >= 1000000:\n",
    "        adjective = \" really big \"\n",
    "    elif num >= 1000:\n",
    "        adjective = \" big \"\n",
    "\n",
    "# Store the message for positive numbers including the appropriate adjective\n",
    "    result = \"That’s a\" + adjective + \"positive number\"\n",
    "elif num < 0:\n",
    "    result = \"That’s a negative number\"\n",
    "else:\n",
    "    result = \"That’s zero\"\n",
    "# Display the message\n",
    "print(result)"
   ]
  },
  {
   "cell_type": "markdown",
   "id": "14e52183",
   "metadata": {},
   "source": [
    "Exercise 36: Dog Years\n",
    "(22 Lines)\n",
    "It is commonly said that one human year is equivalent to 7 dog years. However this\n",
    "simple conversion fails to recognize that dogs reach adulthood in approximately two\n",
    "years. As a result, some people believe that it is better to count each of the first two\n",
    "human years as 10.5 dog years, and then count each additional human year as 4 dog\n",
    "years.\n",
    "Write a program that implements the conversion from human years to dog years\n",
    "described in the previous paragraph. Ensure that your program works correctly for\n",
    "conversions of less than two human years and for conversions of two or more human\n",
    "years. Your program should display an appropriate error message if the user enters\n",
    "a negative number"
   ]
  },
  {
   "cell_type": "code",
   "execution_count": null,
   "id": "934c7e53",
   "metadata": {},
   "outputs": [
    {
     "name": "stdout",
     "output_type": "stream",
     "text": [
      "hii tis program convrt human yrs to dog yrs\n",
      "humen_yrs=92.0\n"
     ]
    }
   ],
   "source": [
    "print(\"hii tis program convrt human yrs to dog yrs\")\n",
    "humen_yrs=int(input(\"enter humen_yrs\"))\n",
    "if humen_yrs<0:\n",
    "    print(\"age can not be negative\")\n",
    "elif humen_yrs<=2:\n",
    "    print(f\"humen yrs = {humen_yrs*10.5}\")\n",
    "elif humen_yrs >2:\n",
    "    print(f\"humen_yrs={2*10.5*humen_yrs+(humen_yrs-2)*4}\")\n",
    "    "
   ]
  },
  {
   "cell_type": "code",
   "execution_count": null,
   "id": "7c96a314",
   "metadata": {},
   "outputs": [
    {
     "name": "stdout",
     "output_type": "stream",
     "text": [
      "Hi! This program classifies vowels or consonants.\n",
      "Vowels: ['o', 'i', 'u', 'e', 'u', 'u', 'e', 'e']\n",
      "Consonants: ['r', 't', 'w', 'r']\n"
     ]
    }
   ],
   "source": [
    "print(\"Hi! This program classifies vowels or consonants.\")\n",
    "\n",
    "vowels = []\n",
    "consonant = []\n",
    "\n",
    "word = input('Enter the word: ')\n",
    "\n",
    "for alphabet in word:\n",
    "    if alphabet == 'a' or alphabet == 'e' or alphabet == 'i' or alphabet == 'o' or alphabet == 'u' or \\\n",
    "       alphabet == 'A' or alphabet == 'E' or alphabet == 'I' or alphabet == 'O' or alphabet == 'U': \n",
    "        vowels.append(alphabet)\n",
    "    else:\n",
    "        consonant.append(alphabet)\n",
    "\n",
    "print(\"Vowels:\", vowels)\n",
    "print(\"Consonants:\", consonant)\n"
   ]
  },
  {
   "cell_type": "code",
   "execution_count": null,
   "id": "0969a6d2",
   "metadata": {},
   "outputs": [
    {
     "name": "stdout",
     "output_type": "stream",
     "text": [
      "Hi! This program classifies vowels or consonants.\n",
      "['o', 'u', 'e']\n",
      "['r', 'r', 'y', 'y', 'd', 'd', 'y', 'y', 'd', 'g', 'h', 't', '7', 'y', '3']\n"
     ]
    }
   ],
   "source": [
    "print(\"Hi! This program classifies vowels or consonants.\")\n",
    "\n",
    "vowels = []\n",
    "consonant = []\n",
    "\n",
    "word = input('Enter the word: ')\n",
    "\n",
    "for alphabet in word:\n",
    "    if alphabet in 'aeiouAEIOU':  # Correct the condition to check for vowels\n",
    "        vowels.append(alphabet)\n",
    "    else:\n",
    "        consonant.append(alphabet)\n",
    "\n",
    "print(vowels)\n",
    "print(consonant)\n"
   ]
  },
  {
   "cell_type": "markdown",
   "id": "6a82d486",
   "metadata": {},
   "source": [
    "Exercise 39: Month Name to Number of Days\n",
    "(Solved, 18 Lines)\n",
    "The length of a month varies from 28 to 31 days. In this exercise you will create\n",
    "a program that reads the name of a month from the user as a string. Then your\n",
    "program should display the number of days in that month. Display “28 or 29 days”\n",
    "for February so that leap years are addressed.\n"
   ]
  },
  {
   "cell_type": "code",
   "execution_count": null,
   "id": "b15a5586",
   "metadata": {},
   "outputs": [
    {
     "name": "stdout",
     "output_type": "stream",
     "text": [
      "enter the valid month name\n"
     ]
    }
   ],
   "source": [
    "month=input(\"enter month in lowercase\")\n",
    "\n",
    "if month in ['january','march','may','july','september','november','January','March','May','July','September','November']:\n",
    "    print('31')\n",
    "elif month in ['April','June','August','October','December','april','june','august','october','december']:\n",
    "    print('30')\n",
    "elif month=='february' or month=='February':\n",
    "    print(\"28 or 29\")\n",
    "elif month not in ['January','March','May','July','September','November','april','April','June','August','October','December','February','january','march','may','july','september','november','april','june','august','october','december','february']:\n",
    "    print(\"enter the valid month name\")\n"
   ]
  },
  {
   "cell_type": "code",
   "execution_count": null,
   "id": "5e58600e",
   "metadata": {},
   "outputs": [
    {
     "name": "stdout",
     "output_type": "stream",
     "text": [
      "That’s a equilateral triangle\n"
     ]
    }
   ],
   "source": [
    "# Determine the triangle’s type\n",
    "side1=int(input('enter length of side1'))\n",
    "side2=int(input('enter length of side2'))\n",
    "side3=int(input('enter length of side3'))\n",
    "\n",
    "if side1 == side2 and side2 == side3:\n",
    "   tri_type = \"equilateral\"\n",
    "elif side1 == side2 or side2 == side3 or side3 == side1:\n",
    "   tri_type = \"isosceles\"\n",
    "else:\n",
    "   tri_type = \"scalene\"\n",
    "# Display the triangle’s type\n",
    "print(\"That’s a\", tri_type, \"triangle\")\n"
   ]
  },
  {
   "cell_type": "markdown",
   "id": "2a99321b",
   "metadata": {},
   "source": [
    "In this exercise you will create a program that computes the average of a collection\n",
    "of values entered by the user. The user will enter 0 as a sentinel value to indicate\n",
    "that no further values will be provided. Your program should display an appropriate\n",
    "error message if the first value entered by the user is 0.\n",
    "Hint: Because the 0 marks the end of the input it should not be included in the\n",
    "average"
   ]
  },
  {
   "cell_type": "code",
   "execution_count": null,
   "id": "ba76e47e",
   "metadata": {},
   "outputs": [
    {
     "name": "stdout",
     "output_type": "stream",
     "text": [
      "620.5\n"
     ]
    }
   ],
   "source": [
    "values=[]\n",
    "count=0\n",
    "while count<1:\n",
    "\n",
    "    num=int(input(f\"enter the number to calculate average_of numbers(0 for the last number)\"))\n",
    "    if num !=0:\n",
    "      values.append(num)\n",
    "    if num==0:\n",
    "       break\n",
    "    if len(values)<0:\n",
    "       print(\"no values entered\")\n",
    "\n",
    "    average_numbers=sum(values)/len(values)\n",
    "if len(values)>0:\n",
    "   print(average_numbers)\n",
    "else:\n",
    "   print(\"please enter the number\")\n",
    "\n"
   ]
  },
  {
   "cell_type": "code",
   "execution_count": null,
   "id": "d84c9009",
   "metadata": {},
   "outputs": [
    {
     "name": "stdout",
     "output_type": "stream",
     "text": [
      "hii this program will give you the gcd of two integeres\n",
      "gcd of (456, 456) is 456\n"
     ]
    }
   ],
   "source": [
    "print(\"hii this program will give you the gcd of two integeres\")\n",
    "m=int(input(\"enter the number\"))\n",
    "n=int(input(\"'enter the number\"))\n",
    "values=[]\n",
    "d=0\n",
    "while d <= m and d<= n:\n",
    "    d+=1\n",
    "    if m%d==0 and n%d==0:\n",
    "        values.append(d)\n",
    "gcd=max(values)\n",
    "print( f\"gcd of {m,n} is {gcd}\")\n",
    "\n"
   ]
  },
  {
   "cell_type": "markdown",
   "id": "6abc5a0f",
   "metadata": {},
   "source": [
    "The prime factorization of an integer, n, can be determined using the following steps:\n",
    "Initialize factor to 2\n",
    "While factor is less than or equal to n do\n",
    "If n is evenly divisible by factor then\n",
    "Conclude that factor is a factor of n\n",
    "Divide n by factor using floor division\n",
    "Else\n",
    "Increase factor by 1\n",
    "Write a program that reads an integer from the user. If the value entered by the\n",
    "user is less than 2 then your program should display an appropriate error message.\n",
    "Otherwise your program should display the prime numbers that can be multiplied\n",
    "together to compute n, with one factor appearing on each line. For example:\n"
   ]
  },
  {
   "cell_type": "code",
   "execution_count": 5,
   "id": "f65505ba",
   "metadata": {},
   "outputs": [
    {
     "name": "stdout",
     "output_type": "stream",
     "text": [
      "Hii this program will give you prime factors of numbers\n",
      "Prime factorsof {n}: 2*2*3\n"
     ]
    }
   ],
   "source": [
    "# Input from the user\n",
    "print(\"Hii this program will give you prime factors of numbers\")\n",
    "n = int(input(\"Enter a number: \"))\n",
    "\n",
    "# Initialize an empty list to store prime numbers\n",
    "prime = []\n",
    "factor=[]\n",
    "\n",
    "# Loop through each number from 2 to n\n",
    "for i in range(2, n + 1):\n",
    "    # Assume i is prime\n",
    "    is_prime = True\n",
    "    # Check divisibility by all numbers from 2 to i-1\n",
    "    for j in range(2, i):\n",
    "        if i % j == 0:\n",
    "            is_prime = False\n",
    "            break\n",
    "    # If i is prime, add it to the list\n",
    "    if is_prime:\n",
    "        prime.append(i)\n",
    "\n",
    "# Print the list of prime numbers\n",
    "for p in prime:\n",
    "    while n%p==0:\n",
    "        factor.append(p)\n",
    "        n=n/p\n",
    "#print(f\"Prime factors of{n} is {factor}\")  \n",
    "\n",
    "print(\"Prime factorsof {n}:\", '*'.join(map(str, factor)))\n",
    "#need to improve speed\n",
    "\n"
   ]
  },
  {
   "cell_type": "code",
   "execution_count": null,
   "id": "b2aea01d",
   "metadata": {},
   "outputs": [
    {
     "name": "stdout",
     "output_type": "stream",
     "text": [
      "96 max_item updated\n",
      "98 max_item updated\n",
      "100 max_item updated\n",
      "100 1\n"
     ]
    }
   ],
   "source": [
    "n=[]\n",
    "import random\n",
    "num_updates=0\n",
    "for x in range(100):\n",
    "    max_item=random.randint(1,100)\n",
    "    n.append(max_item)\n",
    "for num in n :\n",
    "    if num>max_item:\n",
    "        max_item=num\n",
    "        print(num,\"max_item updated\")\n",
    "        num_updates=+1\n",
    "print(max_item,num_updates)\n",
    "\n"
   ]
  },
  {
   "cell_type": "code",
   "execution_count": null,
   "id": "daa45e3e",
   "metadata": {},
   "outputs": [],
   "source": [
    "import math\n",
    "math.primefactors()"
   ]
  },
  {
   "cell_type": "code",
   "execution_count": null,
   "id": "13a86754",
   "metadata": {},
   "outputs": [
    {
     "ename": "KeyboardInterrupt",
     "evalue": "",
     "output_type": "error",
     "traceback": [
      "\u001b[1;31m---------------------------------------------------------------------------\u001b[0m",
      "\u001b[1;31mKeyboardInterrupt\u001b[0m                         Traceback (most recent call last)",
      "Cell \u001b[1;32mIn[19], line 30\u001b[0m\n\u001b[0;32m     27\u001b[0m number \u001b[38;5;241m=\u001b[39m \u001b[38;5;28mint\u001b[39m(\u001b[38;5;28minput\u001b[39m(\u001b[38;5;124m\"\u001b[39m\u001b[38;5;124mEnter a number: \u001b[39m\u001b[38;5;124m\"\u001b[39m))\n\u001b[0;32m     29\u001b[0m \u001b[38;5;66;03m# Get the prime factors\u001b[39;00m\n\u001b[1;32m---> 30\u001b[0m factors \u001b[38;5;241m=\u001b[39m \u001b[43mprime_factors\u001b[49m\u001b[43m(\u001b[49m\u001b[43mnumber\u001b[49m\u001b[43m)\u001b[49m\n\u001b[0;32m     32\u001b[0m \u001b[38;5;66;03m# Print the prime factors\u001b[39;00m\n\u001b[0;32m     33\u001b[0m \u001b[38;5;28mprint\u001b[39m(\u001b[38;5;124mf\u001b[39m\u001b[38;5;124m\"\u001b[39m\u001b[38;5;124mPrime factors of \u001b[39m\u001b[38;5;132;01m{\u001b[39;00mnumber\u001b[38;5;132;01m}\u001b[39;00m\u001b[38;5;124m are: \u001b[39m\u001b[38;5;132;01m{\u001b[39;00m\u001b[38;5;124m'\u001b[39m\u001b[38;5;124m, \u001b[39m\u001b[38;5;124m'\u001b[39m\u001b[38;5;241m.\u001b[39mjoin(\u001b[38;5;28mmap\u001b[39m(\u001b[38;5;28mstr\u001b[39m,\u001b[38;5;250m \u001b[39mfactors))\u001b[38;5;132;01m}\u001b[39;00m\u001b[38;5;124m\"\u001b[39m)\n",
      "Cell \u001b[1;32mIn[19], line 13\u001b[0m, in \u001b[0;36mprime_factors\u001b[1;34m(n)\u001b[0m\n\u001b[0;32m     10\u001b[0m \u001b[38;5;66;03m# n must be odd at this point so we can skip even numbers\u001b[39;00m\n\u001b[0;32m     11\u001b[0m \u001b[38;5;28;01mfor\u001b[39;00m i \u001b[38;5;129;01min\u001b[39;00m \u001b[38;5;28mrange\u001b[39m(\u001b[38;5;241m3\u001b[39m, \u001b[38;5;28mint\u001b[39m(math\u001b[38;5;241m.\u001b[39msqrt(n)) \u001b[38;5;241m+\u001b[39m \u001b[38;5;241m1\u001b[39m, \u001b[38;5;241m2\u001b[39m):  \u001b[38;5;66;03m#using high level maths\u001b[39;00m\n\u001b[0;32m     12\u001b[0m     \u001b[38;5;66;03m# While i divides n, append i and divide n\u001b[39;00m\n\u001b[1;32m---> 13\u001b[0m     \u001b[38;5;28;01mwhile\u001b[39;00m n \u001b[38;5;241m%\u001b[39m i \u001b[38;5;241m==\u001b[39m \u001b[38;5;241m0\u001b[39m:\n\u001b[0;32m     14\u001b[0m         factors\u001b[38;5;241m.\u001b[39mappend(i)\n\u001b[0;32m     15\u001b[0m         n \u001b[38;5;241m/\u001b[39m\u001b[38;5;241m/\u001b[39m\u001b[38;5;241m=\u001b[39m i\n",
      "\u001b[1;31mKeyboardInterrupt\u001b[0m: "
     ]
    }
   ],
   "source": [
    "def prime_factors(n):\n",
    "    # Initialize an empty list to store the prime factors\n",
    "    factors = []\n",
    "    \n",
    "    # Check for number of 2s that divide n\n",
    "    while n % 2 == 0:\n",
    "        factors.append(2)\n",
    "        n //= 2\n",
    "    \n",
    "    # n must be odd at this point so we can skip even numbers\n",
    "    for i in range(3, int(math.sqrt(n)) + 1, 2):  #using high level maths\n",
    "        # While i divides n, append i and divide n\n",
    "        while n % i == 0:\n",
    "            factors.append(i)\n",
    "            n //= i\n",
    "    \n",
    "    # This condition is to check if n is a prime number greater than 2\n",
    "    if n > 2:\n",
    "        factors.append(n)\n",
    "    \n",
    "    return factors\n",
    "\n",
    "# Example usage\n",
    "import math\n",
    "\n",
    "# Input from the user\n",
    "number = int(input(\"Enter a number: \"))\n",
    "\n",
    "# Get the prime factors\n",
    "factors = prime_factors(number)\n",
    "\n",
    "# Print the prime factors\n",
    "print(f\"Prime factors of {number} are: {', '.join(map(str, factors))}\")\n"
   ]
  },
  {
   "cell_type": "markdown",
   "id": "c7b3ca78",
   "metadata": {},
   "source": [
    "Start with any positive integer as the only term in the sequence\n",
    "While the last term in the sequence is not equal to 1 do\n",
    "If the last term is even then\n",
    "Add another term to the sequence by dividing the last term by 2 using\n",
    "floor division\n",
    "Else\n",
    "Add another term to the sequence by multiplying the last term by 3 and\n",
    "adding 1\n",
    "The Collatz conjecture states that this sequence will eventually end with one when\n",
    "it begins with any positive integer. Although this conjecture has never been proved,\n",
    "it appears to be true.\n",
    "Create a program that reads an integer, n, from the user and reports all of the\n",
    "values in the sequence starting with n and ending with one. Your program should\n",
    "allow the user to continue entering new n values (and your program should continue\n",
    "displaying the sequences) until the user enters a value for n that is less than or equal\n",
    "to zero."
   ]
  },
  {
   "cell_type": "code",
   "execution_count": null,
   "id": "8411c892",
   "metadata": {},
   "outputs": [
    {
     "name": "stdout",
     "output_type": "stream",
     "text": [
      "[5556, 2778, 1389, 1390, 695, 696, 348, 174, 87, 88, 44, 22, 11, 12, 6, 3, 4, 2, 1]\n"
     ]
    }
   ],
   "source": [
    "n=int(input(\"enter the number to make collatz sequence\"))\n",
    "sequence=[]\n",
    "while n !=1:\n",
    "    if n%2==0:\n",
    "        n=n//2\n",
    "        sequence.append(n)\n",
    "    else:\n",
    "        n=n+1\n",
    "        sequence.append(n)\n",
    "print(sequence)"
   ]
  },
  {
   "cell_type": "code",
   "execution_count": null,
   "id": "6a77d00a",
   "metadata": {},
   "outputs": [
    {
     "name": "stdout",
     "output_type": "stream",
     "text": [
      "       1   2   3   4   5   6   7   8   9  10\n",
      "   1   1   2   3   4   5   6   7   8   9  10\n",
      "   2   2   4   6   8  10  12  14  16  18  20\n",
      "   3   3   6   9  12  15  18  21  24  27  30\n",
      "   4   4   8  12  16  20  24  28  32  36  40\n",
      "   5   5  10  15  20  25  30  35  40  45  50\n",
      "   6   6  12  18  24  30  36  42  48  54  60\n",
      "   7   7  14  21  28  35  42  49  56  63  70\n",
      "   8   8  16  24  32  40  48  56  64  72  80\n",
      "   9   9  18  27  36  45  54  63  72  81  90\n",
      "  10  10  20  30  40  50  60  70  80  90 100\n"
     ]
    }
   ],
   "source": [
    "\n",
    "MIN = 1\n",
    "MAX = 10\n",
    "\n",
    "# Display the top row of labels\n",
    "print(\"    \", end=\"\")\n",
    "for i in range(MIN, MAX + 1):\n",
    "    print(\"%4d\" % i, end=\"\")\n",
    "print()\n",
    "\n",
    "# Display the table\n",
    "for i in range(MIN, MAX + 1):\n",
    "    print(\"%4d\" % i, end=\"\")\n",
    "    for j in range(MIN, MAX + 1):\n",
    "        print(\"%4d\" % (i * j), end=\"\")\n",
    "    print()\n",
    "\n"
   ]
  },
  {
   "cell_type": "code",
   "execution_count": null,
   "id": "fa9244fd",
   "metadata": {},
   "outputs": [
    {
     "name": "stdout",
     "output_type": "stream",
     "text": [
      "       1   2   3   4   5   6   7   8   9  10\n",
      "   1   1   2   3   4\n",
      "   2   2   4   6   8\n",
      "   3   3   6   9  12\n",
      "   4   4   8  12  16\n",
      "   5   5  10  15  20\n",
      "   6   6  12  18  24\n",
      "   7   7  14  21  28\n",
      "   8   8  16  24  32\n",
      "   9   9  18  27  36\n",
      "  10  10  20  30  40\n"
     ]
    }
   ],
   "source": [
    "MIN=1\n",
    "MAX=10\n",
    "\n",
    "# Display the top row of labels\n",
    "print(\"   \", end=\" \")\n",
    "for i in range(MIN, MAX + 1):\n",
    "    print('%4d'%i, end=\"\")\n",
    "print()\n",
    "\n",
    "# Display the table\n",
    "for i in range(MIN, MAX + 1):\n",
    "    print('%4d'%i, end=\"\")\n",
    "    for j in range(MIN, 5):\n",
    "        print('%4d'% (i * j), end=\"\")\n",
    "    print()"
   ]
  },
  {
   "cell_type": "code",
   "execution_count": null,
   "id": "8fd2d747",
   "metadata": {},
   "outputs": [],
   "source": []
  },
  {
   "cell_type": "markdown",
   "id": "bc41e076",
   "metadata": {},
   "source": [
    "In a particular jurisdiction, taxi fares consist of a base fare of $4.00, plus $0.25\n",
    "for every 140 meters travelled. Write a function that takes the distance travelled (in\n",
    "kilometers) as its only parameter and returns the total fare as its only result. Write a\n",
    "main program that demonstrates the function."
   ]
  },
  {
   "cell_type": "code",
   "execution_count": null,
   "id": "69e48ece",
   "metadata": {},
   "outputs": [
    {
     "name": "stdout",
     "output_type": "stream",
     "text": [
      "fair price  is 4.5$ for 140meter\n"
     ]
    }
   ],
   "source": [
    "def fair_price(travel_distance):\n",
    "    fair_price=4.25+0.25*travel_distance/140\n",
    "    return print(f\"fair price  is {fair_price}$ for {travel_distance}meter\")\n",
    "fair_price(140)"
   ]
  },
  {
   "cell_type": "markdown",
   "id": "05b81018",
   "metadata": {},
   "source": [
    "Write a function that takes three numbers as parameters, and returns the median value\n",
    "of those parameters as its result. Include a main program that reads three values from\n",
    "the user and displays their median."
   ]
  },
  {
   "cell_type": "code",
   "execution_count": null,
   "id": "24783d61",
   "metadata": {},
   "outputs": [
    {
     "data": {
      "text/plain": [
       "66.0"
      ]
     },
     "execution_count": 36,
     "metadata": {},
     "output_type": "execute_result"
    }
   ],
   "source": [
    "def median_three_values(a,b,c):\n",
    "    if a<b or b<c:\n",
    "        return b\n",
    "    if a<c or c<b:\n",
    "        return c\n",
    "    if b<a or a<c:\n",
    "        return a\n",
    "    if b<c or c<a:\n",
    "        return c\n",
    "    if c<a or a<b:\n",
    "        return a\n",
    "    if c<b or b<a:\n",
    "        return b\n",
    "# Display the median of 3 values entered by the user\n",
    "def main():\n",
    "      a = float(input(\"Enter the first value: \"))\n",
    "      b = float(input(\"Enter the second value: \"))\n",
    "      c = float(input(\"Enter the third value: \"))\n",
    "      return median_three_values(a,b,c)\n",
    "\n",
    "if __name__ == \"__main__\":\n",
    "    main()\n"
   ]
  },
  {
   "cell_type": "markdown",
   "id": "9007acd9",
   "metadata": {},
   "source": [
    "An online retailer provides express shipping for many of its items at a rate of $10.95\n",
    "for the first item in an order, and $2.95 for each subsequent item in the same order.\n",
    "Write a function that takes the number of items in the order as its only parameter.\n",
    "Return the shipping charge for the order as the function’s result. Include a main\n",
    "program that reads the number of items purchased from the user and displays the\n",
    "shipping charge."
   ]
  },
  {
   "cell_type": "code",
   "execution_count": null,
   "id": "0bfa50fb",
   "metadata": {},
   "outputs": [
    {
     "name": "stdout",
     "output_type": "stream",
     "text": [
      "shipping charges for 5 number of items is 46.75$\n"
     ]
    }
   ],
   "source": [
    "def shipping_charges(n):\n",
    "    shipping_charges=2.95+10.95*(n-1)\n",
    "    return shipping_charges\n",
    "n=int(input(\"enter the number of item to deliverd\"))\n",
    "print(f\"shipping charges for {n} number of items is {shipping_charges(n)}$\")"
   ]
  },
  {
   "cell_type": "markdown",
   "id": "172a4280",
   "metadata": {},
   "source": [
    "Words like first, second and third are referred to as ordinal numbers. In this exercise,\n",
    "you will write a function that takes an integer as its only parameter and returns a\n",
    "string containing the appropriate English ordinal number as its only result. Your\n",
    "function must handle the integers between 1 and 12 (inclusive). It should return an\n",
    "empty string if the function is called with an argument outside of this range. Include\n",
    "a main program that demonstrates your function by displaying each integer from 1\n",
    "to 12 and its ordinal number. Your main program should only run when your file has\n",
    "not been imported into another program."
   ]
  },
  {
   "cell_type": "code",
   "execution_count": null,
   "id": "0ca4889d",
   "metadata": {},
   "outputs": [
    {
     "name": "stdout",
     "output_type": "stream",
     "text": [
      "1 -> first\n",
      "2 -> second\n",
      "3 -> third\n",
      "4 -> fourth\n",
      "5 -> fifth\n",
      "6 -> sixth\n",
      "7 -> seventh\n",
      "8 -> eighth\n",
      "9 -> ninth\n",
      "10 -> tenth\n",
      "11 -> eleventh\n",
      "12 -> twelfth\n"
     ]
    }
   ],
   "source": [
    "def ordinal_number(n):\n",
    "    if n < 1 or n > 12:\n",
    "        return \"\"\n",
    "\n",
    "    ordinals = (\"first\", \"second\", \"third\", \"fourth\", \"fifth\", \"sixth\", \"seventh\", \n",
    "                \"eighth\", \"ninth\", \"tenth\", \"eleventh\", \"twelfth\")\n",
    "    \n",
    "    return ordinals[n-1]\n",
    "\n",
    "def main():\n",
    "    for i in range(1, 13):\n",
    "        print(f\"{i} -> {ordinal_number(i)}\")\n",
    "\n",
    "if __name__ == \"__main__\":\n",
    "    main()\n"
   ]
  },
  {
   "cell_type": "markdown",
   "id": "3ca466c8",
   "metadata": {},
   "source": [
    "Create a function that takes an ordinal date, consisting of a year and a day within in\n",
    "that year, as its parameters. The function will return the day and month correspond\u0002ing to that ordinal date as its results. Ensure that your function handles leap years\n",
    "correctly\n",
    "hint#-->January (Month 1):\n",
    "\n",
    "January becomes month 13 of the previous year.\n",
    "Example: January 15, 2024 -> month = 13 and year = 2023.\n",
    "February (Month 2):\n",
    "\n",
    "February becomes month 14 of the previous year.\n",
    "Example: February 28, 2024 -> month = 14 and year = 2023.\n",
    "For all other months (March to December), the year and month remain unchanged.\n",
    "The formula day_of_week = (q + (13 * (m + 1) // 5) + k + (k // 4) + (j // 4) + (5 * j)) % 7 calculates the day of the week as a number from 0 to 6."
   ]
  },
  {
   "cell_type": "code",
   "execution_count": null,
   "id": "53bf289d",
   "metadata": {},
   "outputs": [
    {
     "name": "stdout",
     "output_type": "stream",
     "text": [
      "Calculated day of week index: 3\n"
     ]
    },
    {
     "data": {
      "text/plain": [
       "'Tuesday'"
      ]
     },
     "execution_count": 10,
     "metadata": {},
     "output_type": "execute_result"
    }
   ],
   "source": [
    "def day_of_week(date,month,year):\n",
    "\n",
    "    if month<3:\n",
    "        month+=12\n",
    "        year -=1\n",
    "              \n",
    "    \n",
    "    q=date\n",
    "    m=month\n",
    "    k=(year%100)\n",
    "    j=(year//100)\n",
    "\n",
    "    day_of_week = (q + (13 * (m + 1) // 5) + k + (k // 4) + (j // 4) + (5 * j)) % 7\n",
    "\n",
    "    # Map the result to the correct day name\n",
    "    days = [\"Saturday\", \"Sunday\", \"Monday\", \"Tuesday\", \"Wednesday\", \"Thursday\", \"Friday\"]\n",
    "    print(f\"Calculated day of week index: {day_of_week}\")\n",
    "\n",
    "    return days[day_of_week]\n",
    "day_of_week(25,7,2023)   "
   ]
  },
  {
   "cell_type": "markdown",
   "id": "810da76c",
   "metadata": {},
   "source": [
    "\n",
    "Exercise 95: Capitalize It\n",
    "(Solved, 68 Lines)\n",
    "Many people do not use capital letters correctly, especially when typing on small\n",
    "devices like smart phones. To help address this situation, you will create a function\n",
    "that takes a string as its only parameter and returns a new copy of the string that has\n",
    "been correctly capitalized. In particular, your function must:\n",
    "• Capitalize the first non-space character in the string,\n",
    "• Capitalize the first non-space character after a period, exclamation mark or question\n",
    "mark, and\n",
    "• Capitalize a lowercase “i” if it is preceded by a space and followed by a space,\n",
    "period, exclamation mark, question mark or apostrophe.\n",
    "Implementing these transformations will correct most capitalization errors. For\n",
    "example, if the function is provided with the string “what time do i have to be there?\n",
    "what’s the address? this time i’ll try to be on time!” then it should return the string\n",
    "“What time do I have to be there? What’s the address? This time I’ll try to be on\n",
    "time!”. Include a main program that read\n",
    "\n"
   ]
  },
  {
   "cell_type": "code",
   "execution_count": null,
   "id": "7776c209",
   "metadata": {},
   "outputs": [
    {
     "name": "stdout",
     "output_type": "stream",
     "text": [
      "It is capitalized as: I recently implemented the capitalize_first_non_space function in Python to correct capitalization errors in user-provided text. Using Python's string manipulation capabilities, the function efficiently identifies and capitalizes the first non-space character in a string. It starts by prompting the user to input a sentence or phrase. Upon receiving the input, the function duplicates the string to avoid modifying the original input directly. It then iterates through each character of the string, skipping over spaces until it finds the first non-space character. Once identified, the function converts this character to uppercase, ensuring proper capitalization. Additionally, the function includes specific rules to capitalize characters following punctuation marks like periods, exclamation marks, and question marks. This enhances the readability of sentences by maintaining grammatical conventions. Furthermore, the function addresses common typographical errors by automatically capitalizing the pronoun \"i\" when it appears correctly in context. Overall, the capitalize_first_non_space function demonstrates effective text processing techniques in Python, contributing to clearer and more polished user-generated content.\n"
     ]
    }
   ],
   "source": [
    "def capitalize(s):\n",
    "    # Create a new copy of the string to return as the function’s result\n",
    "    result = s\n",
    "\n",
    "    # Capitalize the first non-space character in the string\n",
    "    pos = 0\n",
    "    while pos < len(s) and result[pos] == ' ':\n",
    "        pos += 1\n",
    "    if pos < len(s):\n",
    "        # Replace the character with its uppercase version without changing any other characters\n",
    "        result = result[:pos] + result[pos].upper() + result[pos + 1:]\n",
    "\n",
    "    # Capitalize the first letter that follows a ‘.’, ‘!’ or ‘?’\n",
    "    pos = 0\n",
    "    while pos < len(s):\n",
    "        if result[pos] in \".!?\":\n",
    "            # Move past the ‘.’, ‘!’ or ‘?’\n",
    "            pos += 1\n",
    "            # Move past any spaces\n",
    "            while pos < len(s) and result[pos] == ' ':\n",
    "                pos += 1\n",
    "            # If we haven’t reached the end of the string then replace the current character\n",
    "            # with its uppercase equivalent\n",
    "            if pos < len(s):\n",
    "                result = result[:pos] + result[pos].upper() + result[pos + 1:]\n",
    "        # Move to the next character\n",
    "        pos += 1\n",
    "\n",
    "    # Capitalize \"i\" when it is preceded by a space and followed by a space, period, exclamation mark, question mark or apostrophe\n",
    "    pos = 1\n",
    "    while pos < len(s) - 1:\n",
    "        if result[pos - 1] == ' ' and result[pos] == 'i' and \\\n",
    "           (result[pos + 1] in \" .!?,'\"):\n",
    "            # Replace the i with an I without changing any other characters\n",
    "            result = result[:pos] + 'I' + result[pos + 1:]\n",
    "        pos += 1\n",
    "\n",
    "    return result\n",
    "\n",
    "# Demonstrate the capitalize function\n",
    "def main():\n",
    "    s = input(\"Enter some text: \")\n",
    "    capitalized = capitalize(s)\n",
    "    print(\"It is capitalized as:\", capitalized)\n",
    "\n",
    "# Call the main function\n",
    "if __name__ == \"__main__\":\n",
    "    main()\n",
    "\n",
    "\n"
   ]
  },
  {
   "cell_type": "code",
   "execution_count": null,
   "id": "31329db4",
   "metadata": {},
   "outputs": [
    {
     "name": "stdout",
     "output_type": "stream",
     "text": [
      "hii this game to gues the number between [1,10])\n",
      "you loose\n"
     ]
    }
   ],
   "source": [
    "print(\"hii this game to gues the number between [1,10])\")\n",
    "import random\n",
    "random.randint(1,11)\n",
    "m=int(input(\"enter the number between 1-10\"))\n",
    "\n",
    "if m==random.randint(1,11):\n",
    "    print(\"you won the game\")\n",
    "else:\n",
    "    print(\"you loose\")\n",
    "\n",
    "\n",
    "\n"
   ]
  },
  {
   "cell_type": "markdown",
   "id": "9fe3cd0e",
   "metadata": {},
   "source": [
    "A prime number is an integer greater than one that is only divisible by one and itself.\n",
    "Write a function that determines whether or not its parameter is prime, returning\n",
    "True if it is, and False otherwise. Write a main program that reads an integer\n",
    "from the user and displays a message indicating whether or not it is prime. Ensure\n",
    "that the main program will not run if the file containing your solution is imported\n",
    "into another program"
   ]
  },
  {
   "cell_type": "code",
   "execution_count": null,
   "id": "569dfb31",
   "metadata": {},
   "outputs": [
    {
     "name": "stdout",
     "output_type": "stream",
     "text": [
      "11 is prime number :--> True\n"
     ]
    }
   ],
   "source": [
    "def is_prime(n):\n",
    "    is_prime=True\n",
    "    if n<=1:\n",
    "        is_prime=False\n",
    "    if n>1:\n",
    "        for i in range(2,n+1):\n",
    "            for j in range(2,i):\n",
    "                if i%j==0:\n",
    "                    is_prime=False\n",
    "                    break\n",
    "                else :\n",
    "                    is_prime=True\n",
    "             \n",
    "    return is_prime\n",
    "\n",
    "def main():\n",
    "    n=int(input(\"enter the numbe to knoe is it prime or not\"))\n",
    "    m=is_prime(n)\n",
    "    print(f\"{n} is prime number :-->\",m)\n",
    "\n",
    "if __name__ == \"__main__\":\n",
    "    main()\n"
   ]
  },
  {
   "cell_type": "markdown",
   "id": "836647ea",
   "metadata": {},
   "source": [
    "In this exercise you will create a function named nextPrime that finds and returns\n",
    "the first prime number larger than some integer, n. The value of n will be passed to\n",
    "the function as its only parameter. Include a main program that reads an integer from\n",
    "the user and displays the first prime number larger than the entered value. Import\n",
    "and use your solution to Exercise 98 while completing this exercise\n"
   ]
  },
  {
   "cell_type": "code",
   "execution_count": null,
   "id": "0161a002",
   "metadata": {},
   "outputs": [
    {
     "name": "stdout",
     "output_type": "stream",
     "text": [
      "next prime number to 46325 is  :--> 46327\n"
     ]
    }
   ],
   "source": [
    "def next_prime(n):\n",
    "    n=n+1\n",
    "    while is_prime(n)==False:\n",
    "       n+=1\n",
    "    return n\n",
    "def main():\n",
    "    n=int(input(\"enter the numbe to knoe is it prime or not\"))\n",
    "    m=next_prime(n)\n",
    "    print(f\"next prime number to {n} is  :-->\",m)\n",
    "\n",
    "if __name__ == \"__main__\":\n",
    "    main()"
   ]
  },
  {
   "cell_type": "markdown",
   "id": "ea00e018",
   "metadata": {},
   "source": [
    "In this exercise you will write a function that determines whether or not a password\n",
    "is good. We will define a good password to be a one that is at least 8 characters long\n",
    "and contains at least one uppercase letter, at least one lowercase letter, and at least\n",
    "one number. Your function should return True if the password passed to it as its\n",
    "only parameter is good. Otherwise it should return False. Include a main program\n",
    "that reads a password from the user and reports whether or not it is good. Ensure\n",
    "that your main program only runs when your solution has not been imported into\n",
    "another file."
   ]
  },
  {
   "cell_type": "code",
   "execution_count": null,
   "id": "9ebe967c",
   "metadata": {},
   "outputs": [
    {
     "name": "stdout",
     "output_type": "stream",
     "text": [
      "pasword kihhydgdr59657909876543 is weak\n"
     ]
    }
   ],
   "source": [
    "def check_pasword(s):\n",
    "    pasword=True\n",
    "    if len(s)<8:\n",
    "        return False\n",
    "    if not any (char.islower() for char in s):\n",
    "        return False\n",
    "    if not any (char.isupper() for char in s):\n",
    "        return False\n",
    "    if not any (char.isdigit() for char in s):\n",
    "        return False\n",
    "    if not any (char in \"!@#$%&*\" for char in pasword) :\n",
    "        return False\n",
    "    else:\n",
    "        return True\n",
    "def main():\n",
    "    n=(input(\"enter the pasword\"))\n",
    "    m=check_pasword(n)\n",
    "\n",
    "    if m==True:\n",
    "        k=\"strong\"\n",
    "    else:\n",
    "        k=\"weak\"\n",
    "\n",
    "    m=True\n",
    "    print(f\"pasword {n} is {k}\")\n",
    "        \n",
    "\n",
    "if __name__ == \"__main__\":\n",
    "    main()\n"
   ]
  },
  {
   "cell_type": "markdown",
   "id": "fdf2af7f",
   "metadata": {},
   "source": [
    "Exercise 103: Random Good Password\n",
    "Using your solutions to Exercises 100 and 102, write a program that generates a\n",
    "random good password and displays it. Count and display the number of attempts\n",
    "that were needed before a good password was generated. Structure your solution so\n",
    "that it imports the functions you wrote previously and then calls them from a function\n",
    "named main in the file that you create for this exercise."
   ]
  },
  {
   "cell_type": "code",
   "execution_count": 10,
   "id": "574c2e71",
   "metadata": {},
   "outputs": [
    {
     "ename": "AttributeError",
     "evalue": "'int' object has no attribute 'islower'",
     "output_type": "error",
     "traceback": [
      "\u001b[1;31m---------------------------------------------------------------------------\u001b[0m",
      "\u001b[1;31mAttributeError\u001b[0m                            Traceback (most recent call last)",
      "Cell \u001b[1;32mIn[10], line 38\u001b[0m\n\u001b[0;32m     36\u001b[0m ran_par\u001b[38;5;241m=\u001b[39me\u001b[38;5;241m+\u001b[39mf\u001b[38;5;241m+\u001b[39mg\u001b[38;5;241m+\u001b[39mh\n\u001b[0;32m     37\u001b[0m \u001b[38;5;66;03m# Generate the password\u001b[39;00m\n\u001b[1;32m---> 38\u001b[0m \u001b[38;5;28;01mwhile\u001b[39;00m \u001b[38;5;28mlen\u001b[39m(pasword) \u001b[38;5;241m<\u001b[39m \u001b[38;5;241m8\u001b[39m \u001b[38;5;129;01mor\u001b[39;00m \u001b[38;5;129;01mnot\u001b[39;00m \u001b[43mcheck_pasword\u001b[49m\u001b[43m(\u001b[49m\u001b[43mpasword\u001b[49m\u001b[43m)\u001b[49m:\n\u001b[0;32m     39\u001b[0m     pasword\u001b[38;5;241m.\u001b[39mappend(random\u001b[38;5;241m.\u001b[39mchoice(ran_par))\n\u001b[0;32m     40\u001b[0m     \u001b[38;5;28;01mif\u001b[39;00m \u001b[38;5;28mlen\u001b[39m(pasword) \u001b[38;5;241m>\u001b[39m \u001b[38;5;241m8\u001b[39m:\n",
      "Cell \u001b[1;32mIn[10], line 15\u001b[0m, in \u001b[0;36mcheck_pasword\u001b[1;34m(s)\u001b[0m\n\u001b[0;32m     13\u001b[0m \u001b[38;5;28;01mif\u001b[39;00m \u001b[38;5;28mlen\u001b[39m(s)\u001b[38;5;241m<\u001b[39m\u001b[38;5;241m8\u001b[39m:\n\u001b[0;32m     14\u001b[0m     \u001b[38;5;28;01mreturn\u001b[39;00m \u001b[38;5;28;01mFalse\u001b[39;00m\n\u001b[1;32m---> 15\u001b[0m \u001b[38;5;28;01mif\u001b[39;00m \u001b[38;5;129;01mnot\u001b[39;00m \u001b[38;5;28;43many\u001b[39;49m\u001b[43m \u001b[49m\u001b[43m(\u001b[49m\u001b[43mchar\u001b[49m\u001b[38;5;241;43m.\u001b[39;49m\u001b[43mislower\u001b[49m\u001b[43m(\u001b[49m\u001b[43m)\u001b[49m\u001b[43m \u001b[49m\u001b[38;5;28;43;01mfor\u001b[39;49;00m\u001b[43m \u001b[49m\u001b[43mchar\u001b[49m\u001b[43m \u001b[49m\u001b[38;5;129;43;01min\u001b[39;49;00m\u001b[43m \u001b[49m\u001b[43ms\u001b[49m\u001b[43m)\u001b[49m:\n\u001b[0;32m     16\u001b[0m     \u001b[38;5;28;01mreturn\u001b[39;00m \u001b[38;5;28;01mFalse\u001b[39;00m\n\u001b[0;32m     17\u001b[0m \u001b[38;5;28;01mif\u001b[39;00m \u001b[38;5;129;01mnot\u001b[39;00m \u001b[38;5;28many\u001b[39m (char\u001b[38;5;241m.\u001b[39misupper() \u001b[38;5;28;01mfor\u001b[39;00m char \u001b[38;5;129;01min\u001b[39;00m s):\n",
      "Cell \u001b[1;32mIn[10], line 15\u001b[0m, in \u001b[0;36m<genexpr>\u001b[1;34m(.0)\u001b[0m\n\u001b[0;32m     13\u001b[0m \u001b[38;5;28;01mif\u001b[39;00m \u001b[38;5;28mlen\u001b[39m(s)\u001b[38;5;241m<\u001b[39m\u001b[38;5;241m8\u001b[39m:\n\u001b[0;32m     14\u001b[0m     \u001b[38;5;28;01mreturn\u001b[39;00m \u001b[38;5;28;01mFalse\u001b[39;00m\n\u001b[1;32m---> 15\u001b[0m \u001b[38;5;28;01mif\u001b[39;00m \u001b[38;5;129;01mnot\u001b[39;00m \u001b[38;5;28many\u001b[39m (\u001b[43mchar\u001b[49m\u001b[38;5;241;43m.\u001b[39;49m\u001b[43mislower\u001b[49m() \u001b[38;5;28;01mfor\u001b[39;00m char \u001b[38;5;129;01min\u001b[39;00m s):\n\u001b[0;32m     16\u001b[0m     \u001b[38;5;28;01mreturn\u001b[39;00m \u001b[38;5;28;01mFalse\u001b[39;00m\n\u001b[0;32m     17\u001b[0m \u001b[38;5;28;01mif\u001b[39;00m \u001b[38;5;129;01mnot\u001b[39;00m \u001b[38;5;28many\u001b[39m (char\u001b[38;5;241m.\u001b[39misupper() \u001b[38;5;28;01mfor\u001b[39;00m char \u001b[38;5;129;01min\u001b[39;00m s):\n",
      "\u001b[1;31mAttributeError\u001b[0m: 'int' object has no attribute 'islower'"
     ]
    }
   ],
   "source": [
    "import random\n",
    "a=['a','b','c','d','e','f','g','h','i','j','k','l','m','n','o','p','q','r','s','t','u','v','w','x','y','z']\n",
    "b=[i.upper() for i in a]\n",
    "c=[1,2,3,4,5,6,7,8,9,0]\n",
    "d=['!','@','#','%','&','*','$']\n",
    "e=[]\n",
    "f=[]\n",
    "g=[]\n",
    "h=[]\n",
    "#a[e],b[f],c[g],d[h]\n",
    "def check_pasword(s):\n",
    "    pasword=True\n",
    "    if len(s)<8:\n",
    "        return False\n",
    "    if not any (char.islower() for char in s):\n",
    "        return False\n",
    "    if not any (char.isupper() for char in s):\n",
    "        return False\n",
    "    if not any (char.isdigit() for char in s):\n",
    "        return False\n",
    "    if not any (char in \"!@#$%&*\" for char in pasword) :\n",
    "        return False\n",
    "    else:\n",
    "        return True\n",
    "pasword=[]\n",
    "for i in range(6):\n",
    "    e.append(a[random.randint(0,25)])\n",
    "for i in range(6):\n",
    "    f.append(b[random.randint(0,25)])\n",
    "for i in range(6):\n",
    "    g.append(c[random.randint(0,9)])\n",
    "for i in range(6):\n",
    "    h.append(d[random.randint(0,6)])\n",
    "\n",
    "\n",
    "ran_par=e+f+g+h\n",
    "# Generate the password\n",
    "while len(pasword) < 8 or not check_pasword(pasword):\n",
    "    pasword.append(random.choice(ran_par))\n",
    "    if len(pasword) > 8:\n",
    "        pasword = pasword[:8]  # Trim the password if it exceeds 8 characters\n",
    "\n",
    "# Convert the password list to a string\n",
    "pasword_str = ''.join(pasword)\n",
    "\n",
    "# Ensure the password meets criteria\n",
    "while not check_pasword(password_str):\n",
    "    # Clear the password and generate again\n",
    "    pasword.clear()\n",
    "    while len(pasword) < 8:\n",
    "        pasword.append(ran_par[random.randint(0, 3)][random.randint(0, 5)])\n",
    "        if len(pasword) > 8:\n",
    "            password = pasword[:8]  # Trim the password if it exceeds 8 characters\n",
    "    password_str = ''.join(pasword)\n",
    "\n",
    "print(password_str)\n",
    "\n",
    "\n",
    "\n",
    "\n",
    "#while check_pasword(password_str)==False:\n",
    "  "
   ]
  },
  {
   "cell_type": "code",
   "execution_count": 11,
   "id": "83784bb3",
   "metadata": {},
   "outputs": [
    {
     "ename": "AttributeError",
     "evalue": "'int' object has no attribute 'isdigit'",
     "output_type": "error",
     "traceback": [
      "\u001b[1;31m---------------------------------------------------------------------------\u001b[0m",
      "\u001b[1;31mAttributeError\u001b[0m                            Traceback (most recent call last)",
      "Cell \u001b[1;32mIn[11], line 40\u001b[0m\n\u001b[0;32m     37\u001b[0m     \u001b[38;5;28;01mreturn\u001b[39;00m \u001b[38;5;28;01mTrue\u001b[39;00m\n\u001b[0;32m     39\u001b[0m \u001b[38;5;66;03m# Generate the password\u001b[39;00m\n\u001b[1;32m---> 40\u001b[0m \u001b[38;5;28;01mwhile\u001b[39;00m \u001b[38;5;28mlen\u001b[39m(password) \u001b[38;5;241m<\u001b[39m \u001b[38;5;241m8\u001b[39m \u001b[38;5;129;01mor\u001b[39;00m \u001b[38;5;129;01mnot\u001b[39;00m \u001b[43mcheck_password\u001b[49m\u001b[43m(\u001b[49m\u001b[43mpassword\u001b[49m\u001b[43m)\u001b[49m:\n\u001b[0;32m     41\u001b[0m     password\u001b[38;5;241m.\u001b[39mappend(ran_par[random\u001b[38;5;241m.\u001b[39mrandint(\u001b[38;5;241m0\u001b[39m, \u001b[38;5;241m3\u001b[39m)][random\u001b[38;5;241m.\u001b[39mrandint(\u001b[38;5;241m0\u001b[39m, \u001b[38;5;241m5\u001b[39m)])\n\u001b[0;32m     42\u001b[0m     \u001b[38;5;28;01mif\u001b[39;00m \u001b[38;5;28mlen\u001b[39m(password) \u001b[38;5;241m>\u001b[39m \u001b[38;5;241m8\u001b[39m:\n",
      "Cell \u001b[1;32mIn[11], line 33\u001b[0m, in \u001b[0;36mcheck_password\u001b[1;34m(pwd)\u001b[0m\n\u001b[0;32m     31\u001b[0m \u001b[38;5;28;01mif\u001b[39;00m \u001b[38;5;129;01mnot\u001b[39;00m \u001b[38;5;28many\u001b[39m(char\u001b[38;5;241m.\u001b[39misupper() \u001b[38;5;28;01mfor\u001b[39;00m char \u001b[38;5;129;01min\u001b[39;00m pwd):\n\u001b[0;32m     32\u001b[0m     \u001b[38;5;28;01mreturn\u001b[39;00m \u001b[38;5;28;01mFalse\u001b[39;00m\n\u001b[1;32m---> 33\u001b[0m \u001b[38;5;28;01mif\u001b[39;00m \u001b[38;5;129;01mnot\u001b[39;00m \u001b[38;5;28;43many\u001b[39;49m\u001b[43m(\u001b[49m\u001b[43mchar\u001b[49m\u001b[38;5;241;43m.\u001b[39;49m\u001b[43misdigit\u001b[49m\u001b[43m(\u001b[49m\u001b[43m)\u001b[49m\u001b[43m \u001b[49m\u001b[38;5;28;43;01mfor\u001b[39;49;00m\u001b[43m \u001b[49m\u001b[43mchar\u001b[49m\u001b[43m \u001b[49m\u001b[38;5;129;43;01min\u001b[39;49;00m\u001b[43m \u001b[49m\u001b[43mpwd\u001b[49m\u001b[43m)\u001b[49m:\n\u001b[0;32m     34\u001b[0m     \u001b[38;5;28;01mreturn\u001b[39;00m \u001b[38;5;28;01mFalse\u001b[39;00m\n\u001b[0;32m     35\u001b[0m \u001b[38;5;28;01mif\u001b[39;00m \u001b[38;5;129;01mnot\u001b[39;00m \u001b[38;5;28many\u001b[39m(char \u001b[38;5;129;01min\u001b[39;00m d \u001b[38;5;28;01mfor\u001b[39;00m char \u001b[38;5;129;01min\u001b[39;00m pwd):\n",
      "Cell \u001b[1;32mIn[11], line 33\u001b[0m, in \u001b[0;36m<genexpr>\u001b[1;34m(.0)\u001b[0m\n\u001b[0;32m     31\u001b[0m \u001b[38;5;28;01mif\u001b[39;00m \u001b[38;5;129;01mnot\u001b[39;00m \u001b[38;5;28many\u001b[39m(char\u001b[38;5;241m.\u001b[39misupper() \u001b[38;5;28;01mfor\u001b[39;00m char \u001b[38;5;129;01min\u001b[39;00m pwd):\n\u001b[0;32m     32\u001b[0m     \u001b[38;5;28;01mreturn\u001b[39;00m \u001b[38;5;28;01mFalse\u001b[39;00m\n\u001b[1;32m---> 33\u001b[0m \u001b[38;5;28;01mif\u001b[39;00m \u001b[38;5;129;01mnot\u001b[39;00m \u001b[38;5;28many\u001b[39m(\u001b[43mchar\u001b[49m\u001b[38;5;241;43m.\u001b[39;49m\u001b[43misdigit\u001b[49m() \u001b[38;5;28;01mfor\u001b[39;00m char \u001b[38;5;129;01min\u001b[39;00m pwd):\n\u001b[0;32m     34\u001b[0m     \u001b[38;5;28;01mreturn\u001b[39;00m \u001b[38;5;28;01mFalse\u001b[39;00m\n\u001b[0;32m     35\u001b[0m \u001b[38;5;28;01mif\u001b[39;00m \u001b[38;5;129;01mnot\u001b[39;00m \u001b[38;5;28many\u001b[39m(char \u001b[38;5;129;01min\u001b[39;00m d \u001b[38;5;28;01mfor\u001b[39;00m char \u001b[38;5;129;01min\u001b[39;00m pwd):\n",
      "\u001b[1;31mAttributeError\u001b[0m: 'int' object has no attribute 'isdigit'"
     ]
    }
   ],
   "source": [
    "import random\n",
    "# Initialize the character sets\n",
    "a=['a','b','c','d','e','f','g','h','i','j','k','l','m','n','o','p','q','r','s','t','u','v','w','x','y','z']\n",
    "b = [char.upper() for char in a]\n",
    "c=[1,2,3,4,5,6,7,8,9,0]\n",
    "d = ['!', '@', '#', '%', '&', '*', '$']\n",
    "\n",
    "# Lists to hold the randomly selected characters\n",
    "e = []\n",
    "f = []\n",
    "g = []\n",
    "h = []\n",
    "\n",
    "# Password list\n",
    "password = []\n",
    "\n",
    "# Select 6 random characters from each character set\n",
    "for i in range(6):\n",
    "    e.append(a[random.randint(0, 25)])\n",
    "    f.append(b[random.randint(0, 25)])\n",
    "    g.append(c[random.randint(0, 9)])\n",
    "    h.append(d[random.randint(0, 6)])\n",
    "\n",
    "# Combine the character sets into a list of lists\n",
    "ran_par = [e, f, g, h]\n",
    "\n",
    "# Function to check if the password meets criteria\n",
    "def check_password(pwd):\n",
    "    if not any(char.islower() for char in pwd):\n",
    "        return False\n",
    "    if not any(char.isupper() for char in pwd):\n",
    "        return False\n",
    "    if not any(char.isdigit() for char in pwd):\n",
    "        return False\n",
    "    if not any(char in d for char in pwd):\n",
    "        return False\n",
    "    return True\n",
    "\n",
    "# Generate the password\n",
    "while len(password) < 8 or not check_password(password):\n",
    "    password.append(ran_par[random.randint(0, 3)][random.randint(0, 5)])\n",
    "    if len(password) > 8:\n",
    "        password = password[:8]  # Trim the password if it exceeds 8 characters\n",
    "\n",
    "# Convert the password list to a string\n",
    "password_str = ''.join(password)\n",
    "\n",
    "# Ensure the password meets criteria\n",
    "while not check_password(password_str):\n",
    "    # Clear the password and generate again\n",
    "    password.clear()\n",
    "    while len(password) < 8:\n",
    "        password.append(ran_par[random.randint(0, 3)][random.randint(0, 5)])\n",
    "        if len(password) > 8:\n",
    "            password = password[:8]  # Trim the password if it exceeds 8 characters\n",
    "    password_str = ''.join(password)\n",
    "\n",
    "print(password_str)\n"
   ]
  },
  {
   "cell_type": "code",
   "execution_count": null,
   "id": "4523ffae",
   "metadata": {},
   "outputs": [],
   "source": []
  },
  {
   "cell_type": "code",
   "execution_count": 32,
   "id": "fd5329db",
   "metadata": {},
   "outputs": [
    {
     "name": "stdout",
     "output_type": "stream",
     "text": [
      "m*A%0*dC\n"
     ]
    }
   ],
   "source": [
    "import random\n",
    "import string\n",
    "\n",
    "# Initialize the character sets\n",
    "lowercase = ['a','b','c','d','e','f','g','h','i','j','k','l','m','n','o','p','q','r','s','t','u','v','w','x','y','z']\n",
    "uppercase = [char.upper() for char in lowercase]\n",
    "digits = list(string.digits) #in join number can not be joined with string\n",
    "specials = ['!', '@', '#', '%', '&', '*', '$']\n",
    "\n",
    "# Function to check if the password meets criteria\n",
    "def check_password(pwd):\n",
    "    if not any(char.islower() for char in pwd):\n",
    "        return False\n",
    "    if not any(char.isupper() for char in pwd):\n",
    "        return False\n",
    "    if not any(char.isdigit() for char in pwd):\n",
    "        return False\n",
    "    if not any(char in specials for char in pwd):\n",
    "        return False\n",
    "    return True\n",
    "\n",
    "# Generate a password that meets criteria\n",
    "def generate_password(length):\n",
    "    # Ensure the password contains at least one character from each required set\n",
    "    password = [\n",
    "        random.choice(lowercase),\n",
    "        random.choice(uppercase),\n",
    "        random.choice(digits),\n",
    "        random.choice(specials)\n",
    "    ]\n",
    "    \n",
    "    # Fill the rest of the password length with random choices from all sets combined\n",
    "    all_chars = lowercase + uppercase + digits + specials\n",
    "    while len(password) < length:\n",
    "        password.append(random.choice(all_chars))\n",
    "    \n",
    "    # Shuffle the password to ensure randomness\n",
    "    random.shuffle(password)\n",
    "    \n",
    "    return ''.join(password)\n",
    "\n",
    "# Desired password length\n",
    "password_length = 8\n",
    "\n",
    "# Generate and print the password\n",
    "password = generate_password(password_length)\n",
    "while not check_password(password):\n",
    "    password = generate_password(password_length)\n",
    "\n",
    "print(password)\n"
   ]
  },
  {
   "cell_type": "code",
   "execution_count": 4,
   "id": "90e888b8",
   "metadata": {},
   "outputs": [
    {
     "ename": "NameError",
     "evalue": "name 'pasword' is not defined",
     "output_type": "error",
     "traceback": [
      "\u001b[1;31m---------------------------------------------------------------------------\u001b[0m",
      "\u001b[1;31mNameError\u001b[0m                                 Traceback (most recent call last)",
      "Cell \u001b[1;32mIn[4], line 10\u001b[0m\n\u001b[0;32m      8\u001b[0m \u001b[38;5;28;01mif\u001b[39;00m k\u001b[38;5;241m==\u001b[39mm:\n\u001b[0;32m      9\u001b[0m     pasword\u001b[38;5;241m=\u001b[39mk\n\u001b[1;32m---> 10\u001b[0m \u001b[38;5;28mprint\u001b[39m(\u001b[38;5;124mf\u001b[39m\u001b[38;5;124m\"\u001b[39m\u001b[38;5;124myour pasword is \u001b[39m\u001b[38;5;132;01m{\u001b[39;00m\u001b[43mpasword\u001b[49m\u001b[38;5;132;01m}\u001b[39;00m\u001b[38;5;124m\"\u001b[39m)\n",
      "\u001b[1;31mNameError\u001b[0m: name 'pasword' is not defined"
     ]
    }
   ],
   "source": [
    "m=(input(\"enter the pasword\"))\n",
    "n=0\n",
    "while n!=int(m):\n",
    "    n+=1\n",
    "\n",
    "password=n\n",
    "k='0'+str(n)\n",
    "if k==m:\n",
    "    pasword=k\n",
    "print(f\"your pasword is {pasword}\")\n"
   ]
  },
  {
   "cell_type": "code",
   "execution_count": 63,
   "id": "496556e3",
   "metadata": {},
   "outputs": [
    {
     "name": "stdout",
     "output_type": "stream",
     "text": [
      "Your password is 12345678\n"
     ]
    },
    {
     "data": {
      "text/plain": [
       "str"
      ]
     },
     "execution_count": 63,
     "metadata": {},
     "output_type": "execute_result"
    }
   ],
   "source": [
    "m = input(\"Enter the password: \")\n",
    "n = 0\n",
    "\n",
    "while n != int(m):\n",
    "    n += 1\n",
    "\n",
    "password = str(n)\n",
    "\n",
    "# Check if the password should have a leading zero\n",
    "if len(m) > len(password):\n",
    "    password = '0' + password\n",
    "\n",
    "print(f\"Your password is {password}\")\n",
    "\n",
    "type(password)"
   ]
  },
  {
   "cell_type": "code",
   "execution_count": 57,
   "id": "bcc01975",
   "metadata": {},
   "outputs": [
    {
     "ename": "ModuleNotFoundError",
     "evalue": "No module named 'flask'",
     "output_type": "error",
     "traceback": [
      "\u001b[1;31m---------------------------------------------------------------------------\u001b[0m",
      "\u001b[1;31mModuleNotFoundError\u001b[0m                       Traceback (most recent call last)",
      "Cell \u001b[1;32mIn[57], line 1\u001b[0m\n\u001b[1;32m----> 1\u001b[0m \u001b[38;5;28;01mfrom\u001b[39;00m \u001b[38;5;21;01mflask\u001b[39;00m \u001b[38;5;28;01mimport\u001b[39;00m Flask, request, render_template_string\n\u001b[0;32m      3\u001b[0m app \u001b[38;5;241m=\u001b[39m Flask(\u001b[38;5;18m__name__\u001b[39m)\n\u001b[0;32m      5\u001b[0m \u001b[38;5;66;03m# Route for password guessing\u001b[39;00m\n",
      "\u001b[1;31mModuleNotFoundError\u001b[0m: No module named 'flask'"
     ]
    }
   ],
   "source": [
    "w=lowercase = ['a','b','c','d','e','f','g','h','i','j','k','l','m','n','o','p','q','r','s','t','u','v','w','x','y','z']\n",
    ",char.upper() for char in lowercase,list(string.digits),'!', '@', '#', '%', '&', '*', '$']"
   ]
  },
  {
   "cell_type": "code",
   "execution_count": 3,
   "id": "201548b3",
   "metadata": {},
   "outputs": [
    {
     "name": "stdout",
     "output_type": "stream",
     "text": [
      "1236\n"
     ]
    }
   ],
   "source": [
    "\n",
    "import itertools\n",
    "\n",
    "p=input(\"enter the pasword\")\n",
    "\n",
    "ran_par = ['a','b','c','d','e','f','g','h','i','j','k','l','m','n','o','p','q','r','s','t','u','v','w','x','y','z','A', 'B', 'C','D', 'E', 'F', 'G', 'H', 'I', 'J', 'K', 'L', 'M', 'N', 'O', 'P', 'Q', 'R', 'S', 'T', 'U', 'V', 'W', 'X', 'Y', 'Z',1,2,3,4,5,6,7,9,0,'!', '@', '#', '%', '&', '*', '$']\n",
    "\n",
    "for combination in itertools.product(ran_par, repeat=len(p)):\n",
    "    password = ''.join(map(str, combination))  # Convert tuple to string\n",
    "    if password==p:\n",
    "        break\n",
    "print(password)   \n",
    "\n",
    "\n"
   ]
  },
  {
   "cell_type": "markdown",
   "id": "2d0e69a8",
   "metadata": {},
   "source": [
    "Password hacking"
   ]
  },
  {
   "cell_type": "code",
   "execution_count": 2,
   "id": "ec90d596",
   "metadata": {},
   "outputs": [
    {
     "name": "stdout",
     "output_type": "stream",
     "text": [
      "The password is: 4lA@\n"
     ]
    }
   ],
   "source": [
    "#this this code break any pasword of any lentgh \n",
    "import itertools\n",
    "\n",
    "p = input(\"Enter the password: \")\n",
    "\n",
    "ran_par = [' ','a', 'b', 'c', 'd', 'e', 'f', 'g', 'h', 'i', 'j', 'k', 'l', 'm', 'n', 'o', 'p', 'q', 'r', 's', 't', 'u', 'v', 'w', 'x', 'y', 'z',\n",
    "           'A', 'B', 'C', 'D', 'E', 'F', 'G', 'H', 'I', 'J', 'K', 'L', 'M', 'N', 'O', 'P', 'Q', 'R', 'S', 'T', 'U', 'V', 'W', 'X', 'Y', 'Z',\n",
    "           1, 2, 3, 4, 5, 6, 7, 9, 0, '!', '@', '#', '%', '&', '*', '$']\n",
    "\n",
    "found = False\n",
    "length = 1\n",
    "\n",
    "while not found:\n",
    "    for combination in itertools.product(ran_par, repeat=length):\n",
    "        password = ''.join(map(str, combination))\n",
    "        if password == p:\n",
    "            found = True\n",
    "            break\n",
    "    length += 1\n",
    "\n",
    "print(f\"The password is: {password}\")\n"
   ]
  },
  {
   "cell_type": "code",
   "execution_count": 3,
   "id": "8179d7b0",
   "metadata": {},
   "outputs": [
    {
     "name": "stdout",
     "output_type": "stream",
     "text": [
      "1111\n",
      "1112\n",
      "1113\n",
      "1121\n",
      "1122\n",
      "1123\n",
      "1131\n",
      "1132\n",
      "1133\n",
      "1211\n",
      "1212\n",
      "1213\n",
      "1221\n",
      "1222\n",
      "1223\n",
      "1231\n",
      "1232\n",
      "1233\n",
      "1311\n",
      "1312\n",
      "1313\n",
      "1321\n",
      "1322\n",
      "1323\n",
      "1331\n",
      "1332\n",
      "1333\n",
      "2111\n",
      "2112\n",
      "2113\n",
      "2121\n",
      "2122\n",
      "2123\n",
      "2131\n",
      "2132\n",
      "2133\n",
      "2211\n",
      "2212\n",
      "2213\n",
      "2221\n",
      "2222\n",
      "2223\n",
      "2231\n",
      "2232\n",
      "2233\n",
      "2311\n",
      "2312\n",
      "2313\n",
      "2321\n",
      "2322\n",
      "2323\n",
      "2331\n",
      "2332\n",
      "2333\n",
      "3111\n",
      "3112\n",
      "3113\n",
      "3121\n",
      "3122\n",
      "3123\n",
      "3131\n",
      "3132\n",
      "3133\n",
      "3211\n",
      "3212\n",
      "3213\n",
      "3221\n",
      "3222\n",
      "3223\n",
      "3231\n",
      "3232\n",
      "3233\n",
      "3311\n",
      "3312\n",
      "3313\n",
      "3321\n",
      "3322\n",
      "3323\n",
      "3331\n",
      "3332\n",
      "3333\n"
     ]
    }
   ],
   "source": [
    "import itertools\n",
    "\n",
    "ran_par = [1, 2, 3]\n",
    "length_of_password = 4\n",
    "\n",
    "# Generate all combinations with repetition\n",
    "for combination in itertools.product(ran_par, repeat=length_of_password):\n",
    "    password = ''.join(map(str, combination))  # Convert tuple to string\n",
    "    print(password)\n",
    "\n",
    "\n",
    "    # Note: Uncomment the following line to break after a few examples for practical reasons\n",
    "    # break\n"
   ]
  },
  {
   "cell_type": "code",
   "execution_count": 1,
   "id": "0b4cfb33",
   "metadata": {},
   "outputs": [
    {
     "name": "stdout",
     "output_type": "stream",
     "text": [
      "Combinations of length 1:\n",
      "('A',)\n",
      "('B',)\n",
      "('C',)\n",
      "('D',)\n",
      "Combinations of length 2:\n",
      "('A', 'B')\n",
      "('A', 'C')\n",
      "('A', 'D')\n",
      "('B', 'C')\n",
      "('B', 'D')\n",
      "('C', 'D')\n",
      "Combinations of length 3:\n",
      "('A', 'B', 'C')\n",
      "('A', 'B', 'D')\n",
      "('A', 'C', 'D')\n",
      "('B', 'C', 'D')\n",
      "Combinations of length 4:\n",
      "('A', 'B', 'C', 'D')\n"
     ]
    }
   ],
   "source": [
    "import itertools\n",
    "\n",
    "# Define your list of elements\n",
    "data = ['A', 'B', 'C', 'D']\n",
    "\n",
    "# Generate combinations of different lengths\n",
    "for r in range(1, len(data) + 1):\n",
    "    combinations = itertools.combinations(data, r)\n",
    "    print(f\"Combinations of length {r}:\")\n",
    "    for comb in combinations:\n",
    "        print(comb)\n",
    "\n"
   ]
  },
  {
   "cell_type": "markdown",
   "id": "8a2493aa",
   "metadata": {},
   "source": [
    "# Module: Classes and Objects Assignments\n",
    "## Lesson: Creating and Working with Classes and Objects\n",
    "### Assignment 1: Basic Class and Object Creation\n",
    "\n",
    "Create a class named `Car` with attributes `make`, `model`, and `year`. Create an object of the class and print its attributes.\n",
    "\n",
    "### Assignment 2: Methods in Class\n",
    "\n",
    "Add a method named `start_engine` to the `Car` class that prints a message when the engine starts. Create an object of the class and call the method.\n",
    "\n",
    "### Assignment 3: Class with Constructor\n",
    "\n",
    "Create a class named `Student` with attributes `name` and `age`. Use a constructor to initialize these attributes. Create an object of the class and print its attributes.\n",
    "\n",
    "### Assignment 4: Class with Private Attributes\n",
    "\n",
    "Create a class named `BankAccount` with private attributes `account_number` and `balance`. Add methods to deposit and withdraw money, and to check the balance. Create an object of the class and perform some operations.\n",
    "\n",
    "### Assignment 5: Class Inheritance\n",
    "\n",
    "Create a base class named `Person` with attributes `name` and `age`. Create a derived class named `Employee` that inherits from `Person` and adds an attribute `employee_id`. Create an object of the derived class and print its attributes.\n",
    "\n",
    "### Assignment 6: Method Overriding\n",
    "\n",
    "In the `Employee` class, override the `__str__` method to return a string representation of the object. Create an object of the class and print it.\n",
    "\n",
    "### Assignment 7: Class Composition\n",
    "\n",
    "Create a class named `Address` with attributes `street`, `city`, and `zipcode`. Create a class named `Person` that has an `Address` object as an attribute. Create an object of the `Person` class and print its address.\n",
    "\n",
    "### Assignment 8: Class with Class Variables\n",
    "\n",
    "Create a class named `Counter` with a class variable `count`. Each time an object is created, increment the count. Add a method to get the current count. Create multiple objects and print the count.\n",
    "\n",
    "### Assignment 9: Static Methods\n",
    "\n",
    "Create a class named `MathOperations` with a static method to calculate the square root of a number. Call the static method without creating an object.\n",
    "\n",
    "### Assignment 10: Class with Properties\n",
    "\n",
    "Create a class named `Rectangle` with private attributes `length` and `width`. Use properties to get and set these attributes. Create an object of the class and test the properties.\n",
    "\n",
    "### Assignment 11: Abstract Base Class\n",
    "\n",
    "Create an abstract base class named `Shape` with an abstract method `area`. Create derived classes `Circle` and `Square` that implement the `area` method. Create objects of the derived classes and call the `area` method.\n",
    "\n",
    "### Assignment 12: Operator Overloading\n",
    "\n",
    "Create a class named `Vector` with attributes `x` and `y`. Overload the `+` operator to add two `Vector` objects. Create objects of the class and test the operator overloading.\n",
    "\n",
    "### Assignment 13: Class with Custom Exception\n",
    "\n",
    "Create a custom exception named `InsufficientBalanceError`. In the `BankAccount` class, raise this exception when a withdrawal amount is greater than the balance. Handle the exception and print an appropriate message.\n",
    "\n",
    "### Assignment 14: Class with Context Manager\n",
    "\n",
    "Create a class named `FileManager` that implements the context manager protocol to open and close a file. Use this class to read the contents of a file.\n",
    "\n",
    "### Assignment 15: Chaining Methods\n",
    "\n",
    "Create a class named `Calculator` with methods to add, subtract, multiply, and divide. Each method should return the object itself to allow method chaining. Create an object and chain multiple method calls."
   ]
  },
  {
   "cell_type": "code",
   "execution_count": 15,
   "id": "6ff41e4c",
   "metadata": {},
   "outputs": [
    {
     "data": {
      "text/plain": [
       "2034"
      ]
     },
     "execution_count": 15,
     "metadata": {},
     "output_type": "execute_result"
    }
   ],
   "source": [
    "\n",
    "#1]Create a class named `Car` with attributes `make`, `model`, and `year`. Create an object of the class and print its attributes.\n",
    "\n",
    "class car:\n",
    "    def __init__(self,make,model,year):\n",
    "       self.make=make\n",
    "       self.model=model\n",
    "       self.year=year\n",
    "#create object of the class   \n",
    "bmw=car('bmw',34,2034)\n",
    "bmw.year"
   ]
  },
  {
   "cell_type": "code",
   "execution_count": 41,
   "id": "0682cc73",
   "metadata": {},
   "outputs": [
    {
     "name": "stdout",
     "output_type": "stream",
     "text": [
      "bmw 34 2034 engine is now running\n"
     ]
    }
   ],
   "source": [
    "#Add a method named `start_engine` to the `Car` class that prints a message when the engine starts. Create an object of the class and call the method.\n",
    "class car:\n",
    "    def __init__(self,make,model,year):\n",
    "       self.make=make\n",
    "       self.model=model\n",
    "       self.year=year\n",
    "    def start_engne(self):\n",
    "        print(f\"{self.make} {self.model} {self.year} engine is now running\")\n",
    "#create object of the class   \n",
    "bmw=car('bmw',34,2034)\n",
    "bmw.start_engne()"
   ]
  },
  {
   "cell_type": "markdown",
   "id": "2717badc",
   "metadata": {},
   "source": [
    "### Assignment 3: Class with Constructor\n",
    "\n",
    "Create a class named `Student` with attributes `name` and `age`. Use a constructor to initialize these attributes. Create an object of the class and print its attributes."
   ]
  },
  {
   "cell_type": "code",
   "execution_count": 49,
   "id": "53331949",
   "metadata": {},
   "outputs": [
    {
     "name": "stdout",
     "output_type": "stream",
     "text": [
      "17\n"
     ]
    },
    {
     "data": {
      "text/plain": [
       "'science'"
      ]
     },
     "execution_count": 49,
     "metadata": {},
     "output_type": "execute_result"
    }
   ],
   "source": [
    "class student:\n",
    "    def __init__(self,name,age,clas,section):\n",
    "        self.name=name\n",
    "        self.age=age\n",
    "        self.clas=clas\n",
    "        self.section=section\n",
    "    def stream(self,stream):\n",
    "        self.stream=stream\n",
    "   \n",
    "student1=student('talib',17,11,'B')\n",
    "student1.name\n",
    "student1.section\n",
    "print(student1.age)\n",
    "student1.stream('science')\n",
    "student1.stream"
   ]
  },
  {
   "cell_type": "code",
   "execution_count": 52,
   "id": "e495d775",
   "metadata": {},
   "outputs": [
    {
     "name": "stdout",
     "output_type": "stream",
     "text": [
      "Name: John Doe\n",
      "Age: 30\n",
      "Employee ID: E12345\n"
     ]
    }
   ],
   "source": [
    "### Assignment 5: Class Inheritance\n",
    "\n",
    "#Create a base class named `Person` with attributes `name` and `age`. Create a derived class named `Employee` that inherits from `Person` and adds an attribute `employee_id`. Create an object of the derived class and print its attributes.\n",
    "class person:\n",
    "    def __init__(self,name,age):\n",
    "        self.name=name\n",
    "        self.age=age\n",
    "class employee(person):\n",
    "    def __init__(self, name, age,employee_id):\n",
    "        super().__init__(name, age)\n",
    "        self.employee_id=employee_id\n",
    "employee1 = employee('John Doe', 30, 'E12345')\n",
    "\n",
    "# Print the attributes of the employee\n",
    "print(f\"Name: {employee1.name}\")\n",
    "print(f\"Age: {employee1.age}\")\n",
    "print(f\"Employee ID: {employee1.employee_id}\")"
   ]
  },
  {
   "cell_type": "markdown",
   "id": "8ea707f4",
   "metadata": {},
   "source": []
  },
  {
   "cell_type": "code",
   "execution_count": 53,
   "id": "03995471",
   "metadata": {},
   "outputs": [
    {
     "name": "stdout",
     "output_type": "stream",
     "text": [
      "Deposited 500. New balance is 1500.\n",
      "Withdrew 200. New balance is 1300.\n",
      "Current balance: 1300\n",
      "Insufficient funds.\n"
     ]
    }
   ],
   "source": [
    "class BankAccount:\n",
    "    def __init__(self, account_number, initial_balance=0):\n",
    "        self.__account_number = account_number\n",
    "        self.__balance = initial_balance\n",
    "\n",
    "    def deposit(self, amount):\n",
    "        if amount > 0:\n",
    "            self.__balance += amount\n",
    "            print(f\"Deposited {amount}. New balance is {self.__balance}.\")\n",
    "        else:\n",
    "            print(\"Deposit amount must be positive.\")\n",
    "\n",
    "    def withdraw(self, amount):\n",
    "        if amount > 0:\n",
    "            if self.__balance >= amount:\n",
    "                self.__balance -= amount\n",
    "                print(f\"Withdrew {amount}. New balance is {self.__balance}.\")\n",
    "            else:\n",
    "                print(\"Insufficient funds.\")\n",
    "        else:\n",
    "            print(\"Withdrawal amount must be positive.\")\n",
    "\n",
    "    def check_balance(self):\n",
    "        return self.__balance\n",
    "\n",
    "# Create an object of the class\n",
    "account = BankAccount('1234567890', 1000)\n",
    "\n",
    "# Perform some operations\n",
    "account.deposit(500)\n",
    "account.withdraw(200)\n",
    "print(f\"Current balance: {account.check_balance()}\")\n",
    "account.withdraw(1500)  # Attempt to withdraw more than the balance\n"
   ]
  },
  {
   "cell_type": "code",
   "execution_count": 63,
   "id": "f8b80dd1",
   "metadata": {},
   "outputs": [
    {
     "name": "stdout",
     "output_type": "stream",
     "text": [
      "Employee: John Doe, Age: 30, Employee ID: E12345\n"
     ]
    }
   ],
   "source": [
    "\n",
    "### Assignment 6: Method Overriding\n",
    "\n",
    "#In the `Employee` class, override the `__str__` method to return a string representation of the object. Create an object of the class and print it.\n",
    "class Person:\n",
    "    def __init__(self, name, age):\n",
    "        self.name = name\n",
    "        self.age = age\n",
    "\n",
    "class Employee(Person):\n",
    "    def __init__(self, name, age, employee_id):\n",
    "        super().__init__(name, age)\n",
    "        self.employee_id = employee_id\n",
    "    def __str__(self):\n",
    "          return f\"Employee: {self.name}, Age: {self.age}, Employee ID: {self.employee_id}\"\n",
    "\n",
    "# Create an object of the derived class Employee\n",
    "employee = Employee('John Doe', 30, 'E12345')\n",
    "\n",
    "# Print the object (implicitly calls __str__)\n",
    "print(employee)\n",
    "\n"
   ]
  },
  {
   "cell_type": "code",
   "execution_count": 78,
   "id": "720562b7",
   "metadata": {},
   "outputs": [
    {
     "name": "stdout",
     "output_type": "stream",
     "text": [
      "name:khr,age:27, Address: 4, Delhi, 110059\n"
     ]
    }
   ],
   "source": [
    "#### Assignment 7: Class Composition\n",
    "\n",
    "#Create a class named `Address` with attributes `street`, `city`, and `zipcode`. Create a class named `Person` that has an `Address` object as an attribute. Create an object of the `Person` class and print its address.\n",
    "class address:\n",
    "    def __init__(self,street,city,zipcode) :\n",
    "        self.street=street\n",
    "        self.city=city\n",
    "        self.zipcode=zipcode\n",
    "#class composition        \n",
    "class person:\n",
    "    def __init__(self,address,name,age):\n",
    "\n",
    "        self.address=address\n",
    "        self.name=name\n",
    "        self.age=age\n",
    "    def __str__(self):\n",
    "            return f\"name:{self.name},age:{self.age}, Address: {self.address.street}, {self.address.city}, {self.address.zipcode}\"\n",
    "address1=address(4,'Delhi',110059)\n",
    "person1=person(address1,\"khr\",27)\n",
    "print(person1)"
   ]
  },
  {
   "cell_type": "markdown",
   "id": "a47ec21a",
   "metadata": {},
   "source": [
    "### Assignment 8: Class with Class Variables\n",
    "\n",
    "Create a class named `Counter` with a class variable `count`. Each time an object is created, increment the count. Add a method to get the current count. Create multiple objects and print the count.\n"
   ]
  },
  {
   "cell_type": "code",
   "execution_count": 7,
   "id": "d1d0a6d9",
   "metadata": {},
   "outputs": [
    {
     "name": "stdout",
     "output_type": "stream",
     "text": [
      "3\n"
     ]
    }
   ],
   "source": [
    "class Counter:\n",
    "    count = 0\n",
    "\n",
    "    def __init__(self):\n",
    "        Counter.count += 1\n",
    "\n",
    "    @classmethod\n",
    "    def get_current(cls):\n",
    "        return cls.count\n",
    "\n",
    "# Create multiple objects\n",
    "counter1 = Counter()\n",
    "counter2 = Counter()\n",
    "counter3 = Counter()\n",
    "\n",
    "# Print the current count\n",
    "print(Counter.get_current())\n"
   ]
  },
  {
   "cell_type": "markdown",
   "id": "e4d7efac",
   "metadata": {},
   "source": [
    "### Assignment 9: Static Methods\n",
    "\n",
    "Create a class named `MathOperations` with a static method to calculate the square root of a number. Call the static method without creating an object."
   ]
  },
  {
   "cell_type": "code",
   "execution_count": 14,
   "id": "dbbf9442",
   "metadata": {},
   "outputs": [
    {
     "name": "stdout",
     "output_type": "stream",
     "text": [
      "The square root of 8 is 2.8284271247461903\n"
     ]
    }
   ],
   "source": [
    "import math\n",
    "\n",
    "class MathOperations:\n",
    "    @staticmethod\n",
    "    def sqrt(number):\n",
    "        return math.sqrt(number)\n",
    "\n",
    "# Call the static method without creating an object\n",
    "result = MathOperations.sqrt(8)\n",
    "print(f\"The square root of 8 is {result}\")\n"
   ]
  },
  {
   "cell_type": "markdown",
   "id": "27060b56",
   "metadata": {},
   "source": [
    "### Assignment 10: Class with Properties\n",
    "\n",
    "Create a class named `Rectangle` with private attributes `length` and `width`. Use properties to get and set these attributes. Create an object of the class and test the properties."
   ]
  },
  {
   "cell_type": "code",
   "execution_count": null,
   "id": "0fd16c68",
   "metadata": {},
   "outputs": [],
   "source": [
    "class rectangle:\n",
    "    def __init__(self,lenght,width):\n",
    "        self.lenght=lenght\n",
    "        self.width=width\n",
    "        "
   ]
  }
 ],
 "metadata": {
  "kernelspec": {
   "display_name": "Python 3 (ipykernel)",
   "language": "python",
   "name": "python3"
  },
  "language_info": {
   "codemirror_mode": {
    "name": "ipython",
    "version": 3
   },
   "file_extension": ".py",
   "mimetype": "text/x-python",
   "name": "python",
   "nbconvert_exporter": "python",
   "pygments_lexer": "ipython3",
   "version": "3.12.0"
  }
 },
 "nbformat": 4,
 "nbformat_minor": 5
}
